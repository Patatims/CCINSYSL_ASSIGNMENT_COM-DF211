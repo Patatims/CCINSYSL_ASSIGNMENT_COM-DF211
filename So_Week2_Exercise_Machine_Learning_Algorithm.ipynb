{
  "cells": [
    {
      "cell_type": "markdown",
      "metadata": {
        "id": "view-in-github",
        "colab_type": "text"
      },
      "source": [
        "<a href=\"https://colab.research.google.com/github/Patatims/CCINSYSL_ASSIGNMENT_COM-DF211/blob/main/So_Week2_Exercise_Machine_Learning_Algorithm.ipynb\" target=\"_parent\"><img src=\"https://colab.research.google.com/assets/colab-badge.svg\" alt=\"Open In Colab\"/></a>"
      ]
    },
    {
      "cell_type": "markdown",
      "metadata": {
        "id": "GBxi4CrfzeYk"
      },
      "source": [
        "# Exercise 1\n",
        "\n",
        "Learning through data\n",
        "\n",
        "Instruction: Define a function that will accept input and return the output that matches the examples given for each number"
      ]
    },
    {
      "cell_type": "markdown",
      "metadata": {
        "id": "TGoRtGThzeYm"
      },
      "source": [
        "1. Find the function **f(x)**  \n",
        "\n",
        "| Input  | CAT | DOG | APPLE | BANANA | ORANGE |  \n",
        "| --- | --- | --- | --- | --- | --- |\n",
        "| Output | cat | dog | apple | banana | orange\n"
      ]
    },
    {
      "cell_type": "code",
      "execution_count": null,
      "metadata": {
        "id": "qVeYW_ypzeYn"
      },
      "outputs": [],
      "source": [
        "\n",
        "# Answer here\n",
        "def things(x):  #declaring a function that converts a value to lowercase\n",
        "  thing = [things.lower() for things in x]   #declaring a variable called \"thing\" that converts the list to lowercase for every string that is inputed in the list\n",
        "  return thing #returning every value of variable \"name\"\n",
        "\n",
        "list_of_things = [\"CAT\", \"DOG\", \"APPLE\", \"BANANA\", \"ORANGE\"]  #declaration of list and initialization of its values\n",
        "to_lowercase = things(list_of_things) #assigning the list to the function \"things\"\n",
        "print(to_lowercase) #output the list"
      ]
    },
    {
      "cell_type": "markdown",
      "metadata": {
        "id": "ljHhD6M1zeYn"
      },
      "source": [
        "2. Find the function **f(x)**  \n",
        "\n",
        "| Input  | CAT | DOG | APPLE | BANANA | ORANGE |  \n",
        "| --- | --- | --- | --- | --- | --- |\n",
        "| Output | CT | DG | PPL | BNN | RNG\n"
      ]
    },
    {
      "cell_type": "code",
      "execution_count": null,
      "metadata": {
        "id": "O1IYoTnrzeYo"
      },
      "outputs": [],
      "source": [
        "# Answer here\n",
        "input = \"people\" #Declare a String\n",
        "x = \"\"  #initialize an empty string\n",
        "\n",
        "\"\"\"\n",
        "for vowels in input:   #iterate a for loop in every character in the string of variable \"input\"\n",
        "  if vowels in \"aeiouAEIOU\":  #If I use only in it will only check the aeiou value in the string\n",
        "    x = x + vowels #in empty string add the value that returns a boolean value of true in vowels\n",
        "  \"\"\"\n",
        "\n",
        "for vowels in input:   #iterate a for loop in every character in the string of variable \"input\"\n",
        "  if vowels not in \"aeiouAEIOU\":  #using the \"not in\"(!=) keyword  it returns the value that was now in the vowels value\n",
        "    x = x + vowels #add the value that return in vowels in the empty string\n",
        "\n",
        "print(x) #output the value\n"
      ]
    },
    {
      "cell_type": "markdown",
      "metadata": {
        "id": "jRfDgREezeYo"
      },
      "source": [
        "3. Find the function **f(x)**  \n",
        "\n",
        "| Input  | CAT | DOG | APPLE | BANANA | ORANGE |  \n",
        "| --- | --- | --- | --- | --- | --- |\n",
        "| Output | TAC | GOD | ELPPA | ANANAB | EGNARO\n"
      ]
    },
    {
      "cell_type": "code",
      "execution_count": null,
      "metadata": {
        "id": "xplN1Wi9zeYp",
        "outputId": "a933b0a5-6269-4a6b-b4d4-70e970f292ea",
        "colab": {
          "base_uri": "https://localhost:8080/"
        }
      },
      "outputs": [
        {
          "output_type": "stream",
          "name": "stdout",
          "text": [
            "tac\n"
          ]
        }
      ],
      "source": [
        "# Answer here\n",
        "def reverse_function(x): #intialize a function to reverse a string value\n",
        "    return x [::-1]  #create a slice that start at the last index of the string\n",
        "\n",
        "word = reverse_function(\"CAT\")  #declaring a variable and assigning the reverse function\n",
        "print(word)"
      ]
    },
    {
      "cell_type": "markdown",
      "metadata": {
        "id": "k4JMcMspzeYp"
      },
      "source": [
        "4. Find the function **f(x)**  \n",
        "\n",
        "| Input  | 2 | 3 | 4 | 5 | 6 |  \n",
        "| --- | --- | --- | --- | --- | --- |\n",
        "| Output | 4 | 9 | 16 | 25 | 36\n"
      ]
    },
    {
      "cell_type": "code",
      "execution_count": 1,
      "metadata": {
        "id": "dZrQ2PYVzeYp",
        "outputId": "1d93fea5-2403-40ba-b9cd-1c7874f5d0dd",
        "colab": {
          "base_uri": "https://localhost:8080/"
        }
      },
      "outputs": [
        {
          "output_type": "stream",
          "name": "stdout",
          "text": [
            "Enter a number: 6\n",
            "36\n"
          ]
        }
      ],
      "source": [
        "# Answer here\n",
        "def squared_root(x):\n",
        "  root = x * x #time by itself\n",
        "  return root\n",
        "\n",
        "num = int(input(\"Enter a number: \"))  #User input\n",
        "print(squared_root(num))  #the pattern is a root number\n"
      ]
    },
    {
      "cell_type": "markdown",
      "metadata": {
        "id": "6DonFwqSzeYq"
      },
      "source": [
        "5. Find the function **f(x)**  \n",
        "\n",
        "| Input  | 64 | 27 | 1000 | 729 | 512 |  \n",
        "| --- | --- | --- | --- | --- | --- |\n",
        "| Output | 4 | 3 | 10 | 9 | 8"
      ]
    },
    {
      "cell_type": "code",
      "execution_count": 10,
      "metadata": {
        "id": "EgBiiHMozeYq",
        "colab": {
          "base_uri": "https://localhost:8080/"
        },
        "outputId": "b53512b7-24f5-4906-bbe2-60a734f5a8d6"
      },
      "outputs": [
        {
          "output_type": "stream",
          "name": "stdout",
          "text": [
            "Enter a number: 729\n",
            "9\n"
          ]
        }
      ],
      "source": [
        "# Answer here\n",
        "from decimal import Decimal #import from the python library\n",
        "\n",
        "def cubic_root(x): #at first I thought I need to use modulo but I remember it's returning a reminder not the divisible.\n",
        "    croot = x ** 0.33   #using double asterisk to powered it up\n",
        "    return croot\n",
        "\n",
        "num = int(input(\"Enter a number: \"))  #user input\n",
        "result = cubic_root(num) #calling the cubic_root function with the num as a parameter\n",
        "rounded_result = round(result) #round () to round up the value if the float is 0.5 up\n",
        "print(rounded_result)  #output the result"
      ]
    }
  ],
  "metadata": {
    "kernelspec": {
      "display_name": "myenvironment",
      "language": "python",
      "name": "python3"
    },
    "language_info": {
      "codemirror_mode": {
        "name": "ipython",
        "version": 3
      },
      "file_extension": ".py",
      "mimetype": "text/x-python",
      "name": "python",
      "nbconvert_exporter": "python",
      "pygments_lexer": "ipython3",
      "version": "3.9.17"
    },
    "orig_nbformat": 4,
    "colab": {
      "provenance": [],
      "include_colab_link": true
    }
  },
  "nbformat": 4,
  "nbformat_minor": 0
}